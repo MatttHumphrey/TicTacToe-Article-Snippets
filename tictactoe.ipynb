{
 "cells": [
  {
   "cell_type": "markdown",
   "metadata": {},
   "source": [
    "# Calculating State Space Size"
   ]
  },
  {
   "cell_type": "markdown",
   "metadata": {},
   "source": [
    "The state space is a list of all unique board states reachable during a game of tic-tac-toe. The size of this list is the total number of unique boards."
   ]
  },
  {
   "cell_type": "code",
   "execution_count": 1,
   "metadata": {},
   "outputs": [],
   "source": [
    "def print_board(board):\n",
    "    '''Prints text representation of a board.'''\n",
    "    values = []\n",
    "    for cell in board:\n",
    "        if cell == 1:\n",
    "            values.append(\"X\")\n",
    "        elif cell == -1:\n",
    "            values.append(\"O\")\n",
    "        else:\n",
    "            values.append(\" \")\n",
    "    print(f\"{values[0]}|{values[1]}|{values[2]}\\n-+-+-\\n{values[3]}|{values[4]}|{values[5]}\\n-+-+-\\n{values[6]}|{values[7]}|{values[8]}\\n\\n\")\n",
    "\n",
    "def rotate_board(board):\n",
    "    '''Returns the 90 degree rotation of a given board'''\n",
    "    return tuple(board[i] for i in [6, 3, 0, 7, 4, 1, 8, 5, 2])\n",
    "\n",
    "def reflect_board(board):\n",
    "    '''Reflects the given board in the y axis'''\n",
    "    return tuple(board[i] for i in [2, 1, 0, 5, 4, 3, 8, 7, 6])\n",
    "\n",
    "def board_transforms(board):\n",
    "    '''Returns a set containing all possible board transformations'''\n",
    "    rotations = [board]\n",
    "    for _ in range(3):\n",
    "        rotations.append(rotate_board(rotations[-1]))\n",
    "    reflections = [reflect_board(b) for b in rotations]\n",
    "    return set(rotations + reflections)\n",
    "\n",
    "def is_unique(board, seen_boards):\n",
    "    '''Checks if a provided board has been encountered before'''\n",
    "    transforms = board_transforms(board)\n",
    "    for transform in transforms:\n",
    "        if transform in seen_boards:\n",
    "            return False\n",
    "    seen_boards.update(transforms)\n",
    "    return True\n",
    "\n",
    "def has_won(board, players):\n",
    "    '''Detects whether a board contains a winning state'''\n",
    "    winning_combos = [\n",
    "        [0, 1, 2], [3, 4, 5], [6, 7, 8],\n",
    "        [0, 3, 6], [1, 4, 7], [2, 5, 8],\n",
    "        [0, 4, 8], [2, 4, 6]\n",
    "    ]\n",
    "    for player in players:\n",
    "        for combo in winning_combos:\n",
    "            if all(board[i] == player for i in combo):\n",
    "                return True\n",
    "    return False\n",
    "\n",
    "def generate_boards():\n",
    "    '''Generates all reachable boards in tic-tac-toe'''\n",
    "    rounds = {0: [tuple([0, 0, 0, 0, 0, 0, 0, 0, 0])]}\n",
    "    seen_boards = set()\n",
    "    seen_boards.add(tuple([0, 0, 0, 0, 0, 0, 0, 0, 0]))\n",
    "\n",
    "    for round in range(1, 10):\n",
    "        current_boards = []\n",
    "        for board in rounds[round - 1]:\n",
    "            if has_won(board, [-1, 1]):\n",
    "                continue\n",
    "            player = 1 if round % 2 == 1 else -1\n",
    "            for i in range(9):\n",
    "                if board[i] == 0:\n",
    "                    new_board = tuple(board[j] if j != i else player for j in range(9))\n",
    "                    if is_unique(new_board, seen_boards):\n",
    "                        current_boards.append(new_board)\n",
    "        rounds[round] = current_boards\n",
    "    return rounds, seen_boards"
   ]
  },
  {
   "cell_type": "markdown",
   "metadata": {},
   "source": [
    "We can calculate the number of unique board states after each move. The initial 1 state, 3 states and 12 states found line up with the illustrations seen of the first three layers of the game tree."
   ]
  },
  {
   "cell_type": "code",
   "execution_count": 2,
   "metadata": {},
   "outputs": [
    {
     "name": "stdout",
     "output_type": "stream",
     "text": [
      "Move 0: 1 state\n",
      "Move 1: 3 states\n",
      "Move 2: 12 states\n",
      "Move 3: 38 states\n",
      "Move 4: 108 states\n",
      "Move 5: 174 states\n",
      "Move 6: 204 states\n",
      "Move 7: 153 states\n",
      "Move 8: 57 states\n",
      "Move 9: 15 states\n",
      "Total of 765 board states\n"
     ]
    }
   ],
   "source": [
    "# Finds state space size at each layer\n",
    "rounds, seen_boards = generate_boards()\n",
    "\n",
    "total = 0\n",
    "for i in range(0, 10):\n",
    "    total += len(rounds[i])\n",
    "    print(f\"Move {i}: {len(rounds[i])} state{'' if i == 0 else 's'}\")\n",
    "print(f\"Total of {total} board states\")"
   ]
  },
  {
   "cell_type": "markdown",
   "metadata": {},
   "source": [
    "We can easily calculate the number of wins for X, wins for O, drawn games, and mid game states. There are 138 unique terminal states."
   ]
  },
  {
   "cell_type": "code",
   "execution_count": 3,
   "metadata": {},
   "outputs": [
    {
     "name": "stdout",
     "output_type": "stream",
     "text": [
      "X Wins: 91\n",
      "O Wins: 44\n",
      "Draws: 3\n",
      "Not Finished: 627\n"
     ]
    }
   ],
   "source": [
    "# Finds total number of wins for each player\n",
    "x_wins = []\n",
    "o_wins = []\n",
    "draws = []\n",
    "unfinished = []\n",
    "\n",
    "for i in range(0, 10):\n",
    "    for board in rounds[i]:\n",
    "        if has_won(board, [1]):\n",
    "            x_wins.append(board)\n",
    "        elif has_won(board, [-1]):\n",
    "            o_wins.append(board)\n",
    "        elif all(cell != 0 for cell in board):\n",
    "            draws.append(board)\n",
    "        else:\n",
    "            unfinished.append(board)\n",
    "\n",
    "print(f\"X Wins: {len(x_wins)}\\nO Wins: {len(o_wins)}\\nDraws: {len(draws)}\\nNot Finished: {len(unfinished)}\")"
   ]
  },
  {
   "cell_type": "markdown",
   "metadata": {},
   "source": [
    "We can check how many intermediate board states are present after each move by removing the winning/drawing states from the sum. Note that the even moves have counts 1 + 12 + 108 + 183 = 304, the number of matchboxes needed for MENACE. The 34 at move 8 are ignored as there is only 1 move left for MENACE to play, so it is forced to take the move."
   ]
  },
  {
   "cell_type": "code",
   "execution_count": 4,
   "metadata": {},
   "outputs": [
    {
     "name": "stdout",
     "output_type": "stream",
     "text": [
      "Incomplete boards at Move 0: 1\n",
      "Incomplete boards at Move 1: 3\n",
      "Incomplete boards at Move 2: 12\n",
      "Incomplete boards at Move 3: 38\n",
      "Incomplete boards at Move 4: 108\n",
      "Incomplete boards at Move 5: 153\n",
      "Incomplete boards at Move 6: 183\n",
      "Incomplete boards at Move 7: 95\n",
      "Incomplete boards at Move 8: 34\n",
      "Incomplete boards at Move 9: 0\n",
      "\n",
      "Total MENACE matchboxes needed: 304\n"
     ]
    }
   ],
   "source": [
    "for i in range(0, 10):\n",
    "    total = 0\n",
    "    for board in rounds[i]:\n",
    "        if board in unfinished:\n",
    "            total += 1\n",
    "    print(f\"Incomplete boards at Move {i}: {total}\")\n",
    "\n",
    "print(f\"\\nTotal MENACE matchboxes needed: {1 + 12 + 108 + 183}\")"
   ]
  },
  {
   "cell_type": "markdown",
   "metadata": {},
   "source": [
    "We can use the `print_board` function to display specific board states in plaintext."
   ]
  },
  {
   "cell_type": "code",
   "execution_count": 5,
   "metadata": {},
   "outputs": [
    {
     "name": "stdout",
     "output_type": "stream",
     "text": [
      "X|O|X\n",
      "-+-+-\n",
      "O|X|X\n",
      "-+-+-\n",
      "O|X|O\n",
      "\n",
      "\n",
      "X|O|X\n",
      "-+-+-\n",
      "O|O|X\n",
      "-+-+-\n",
      "X|X|O\n",
      "\n",
      "\n",
      "X|O|X\n",
      "-+-+-\n",
      "X|O|X\n",
      "-+-+-\n",
      "O|X|O\n",
      "\n",
      "\n"
     ]
    }
   ],
   "source": [
    "# Prints all drawn games\n",
    "for board in draws:\n",
    "    print_board(board)"
   ]
  },
  {
   "cell_type": "markdown",
   "metadata": {},
   "source": [
    "# Calculating Game Tree Size"
   ]
  },
  {
   "cell_type": "markdown",
   "metadata": {},
   "source": [
    "The game tree denotes all possible unique games of tic-tac-toe. The size of this tree represents the total number of unique games. The program sums all routes to the endpoints, which can be accessed from the dictionary at any level. (Note: not particularly efficient, takes a little while to run)"
   ]
  },
  {
   "cell_type": "code",
   "execution_count": 6,
   "metadata": {},
   "outputs": [],
   "source": [
    "from collections import defaultdict\n",
    "\n",
    "def forms_board(old_board, new_board, player):\n",
    "    for i in range(9):\n",
    "        if old_board[i] == 0:\n",
    "            trial_board = tuple(old_board[j] if j != i else player for j in range(9))\n",
    "            if tuple(new_board) in board_transforms(trial_board):\n",
    "                times_seen[tuple(new_board)] += times_seen[tuple(old_board)]\n",
    "                return\n",
    "        \n",
    "times_seen = defaultdict(int)\n",
    "times_seen[tuple([0, 0, 0, 0, 0, 0, 0, 0, 0])] = 1\n",
    "\n",
    "for round in range(1, 10):\n",
    "    player = 1 if round % 2 == 1 else -1\n",
    "    for old_board in rounds[round-1]:\n",
    "        for new_board in rounds[round]:\n",
    "            forms_board(old_board, new_board, player)\n"
   ]
  },
  {
   "cell_type": "markdown",
   "metadata": {},
   "source": [
    "Summing the number of possible routes to the terminal states (wins and draws), we find 26830 unique games."
   ]
  },
  {
   "cell_type": "code",
   "execution_count": 7,
   "metadata": {},
   "outputs": [
    {
     "name": "stdout",
     "output_type": "stream",
     "text": [
      "26830\n"
     ]
    }
   ],
   "source": [
    "total = 0\n",
    "for board in x_wins + o_wins + draws:\n",
    "    total += times_seen[tuple(board)]\n",
    "print(total)"
   ]
  },
  {
   "cell_type": "markdown",
   "metadata": {},
   "source": [
    "It is easy to check the number of possible games leading to each of the 3 end states. Clearly X is at somewhat of an advantage, winning in over 50% of the unique game sequences."
   ]
  },
  {
   "cell_type": "code",
   "execution_count": 8,
   "metadata": {},
   "outputs": [
    {
     "name": "stdout",
     "output_type": "stream",
     "text": [
      "X wins in 13957 out of 26830 unique games\n",
      "O wins in 8005 out of 26830 unique games\n",
      "Draws occur in 4868 out of 26830 unique games\n"
     ]
    }
   ],
   "source": [
    "x_win_times = sum(times_seen[tuple(board)] for board in x_wins)\n",
    "o_win_times = sum(times_seen[tuple(board)] for board in o_wins)\n",
    "draw_times = sum(times_seen[tuple(board)] for board in draws)\n",
    "\n",
    "print(f\"X wins in {x_win_times} out of {total} unique games\")\n",
    "print(f\"O wins in {o_win_times} out of {total} unique games\")\n",
    "print(f\"Draws occur in {draw_times} out of {total} unique games\")"
   ]
  }
 ],
 "metadata": {
  "kernelspec": {
   "display_name": "Courses",
   "language": "python",
   "name": "python3"
  },
  "language_info": {
   "codemirror_mode": {
    "name": "ipython",
    "version": 3
   },
   "file_extension": ".py",
   "mimetype": "text/x-python",
   "name": "python",
   "nbconvert_exporter": "python",
   "pygments_lexer": "ipython3",
   "version": "3.11.7"
  }
 },
 "nbformat": 4,
 "nbformat_minor": 2
}
